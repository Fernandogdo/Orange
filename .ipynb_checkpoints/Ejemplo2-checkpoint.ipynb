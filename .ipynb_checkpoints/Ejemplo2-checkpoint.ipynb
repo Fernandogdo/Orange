{
 "cells": [
  {
   "cell_type": "code",
   "execution_count": 1,
   "metadata": {},
   "outputs": [],
   "source": [
    "import matplotlib.pyplot as plt\n",
    "%matplotlib inline\n",
    "import scipy as sp\n",
    "import Orange\n",
    "import numpy as np\n",
    "import random"
   ]
  },
  {
   "cell_type": "code",
   "execution_count": 8,
   "metadata": {},
   "outputs": [],
   "source": [
    "from Orange.data import Table\n",
    "from Orange.classification import NaiveBayesLearner, TreeLearner\n",
    "from Orange.evaluation import CrossValidation"
   ]
  },
  {
   "cell_type": "code",
   "execution_count": 9,
   "metadata": {},
   "outputs": [
    {
     "name": "stdout",
     "output_type": "stream",
     "text": [
      "[[1, 0, 0, 1, 0, 0, 1, 1, 1, 1, 0, 0, 4, 0, 0, 1 | mammal] {aardvark},\n",
      " [1, 0, 0, 1, 0, 0, 0, 1, 1, 1, 0, 0, 4, 1, 0, 1 | mammal] {antelope},\n",
      " [0, 0, 1, 0, 0, 1, 1, 1, 1, 0, 0, 1, 0, 1, 0, 0 | fish] {bass},\n",
      " [1, 0, 0, 1, 0, 0, 1, 1, 1, 1, 0, 0, 4, 0, 0, 1 | mammal] {bear},\n",
      " [1, 0, 0, 1, 0, 0, 1, 1, 1, 1, 0, 0, 4, 1, 0, 1 | mammal] {boar}]\n"
     ]
    }
   ],
   "source": [
    "animales = Table(\"zoo.tab\")\n",
    "print(animales[:5])\n"
   ]
  },
  {
   "cell_type": "code",
   "execution_count": 12,
   "metadata": {},
   "outputs": [
    {
     "data": {
      "text/plain": [
       "(DiscreteVariable(name='hair', values=['0', '1']),\n",
       " DiscreteVariable(name='feathers', values=['0', '1']),\n",
       " DiscreteVariable(name='eggs', values=['0', '1']),\n",
       " DiscreteVariable(name='milk', values=['0', '1']),\n",
       " DiscreteVariable(name='airborne', values=['0', '1']),\n",
       " DiscreteVariable(name='aquatic', values=['0', '1']),\n",
       " DiscreteVariable(name='predator', values=['0', '1']),\n",
       " DiscreteVariable(name='toothed', values=['0', '1']),\n",
       " DiscreteVariable(name='backbone', values=['0', '1']),\n",
       " DiscreteVariable(name='breathes', values=['0', '1']),\n",
       " DiscreteVariable(name='venomous', values=['0', '1']),\n",
       " DiscreteVariable(name='fins', values=['0', '1']),\n",
       " DiscreteVariable(name='legs', values=['0', '2', '4', '5', '6', '8']),\n",
       " DiscreteVariable(name='tail', values=['0', '1']),\n",
       " DiscreteVariable(name='domestic', values=['0', '1']),\n",
       " DiscreteVariable(name='catsize', values=['0', '1']))"
      ]
     },
     "execution_count": 12,
     "metadata": {},
     "output_type": "execute_result"
    }
   ],
   "source": [
    "animales.domain.attributes"
   ]
  },
  {
   "cell_type": "code",
   "execution_count": 13,
   "metadata": {},
   "outputs": [
    {
     "data": {
      "text/plain": [
       "DiscreteVariable(name='type',\n",
       "                 values=['amphibian',\n",
       "                  'bird',\n",
       "                  'fish',\n",
       "                  'insect',\n",
       "                  'invertebrate',\n",
       "                  'mammal',\n",
       "                  'reptile'])"
      ]
     },
     "execution_count": 13,
     "metadata": {},
     "output_type": "execute_result"
    }
   ],
   "source": [
    "animales.domain.class_var"
   ]
  },
  {
   "cell_type": "code",
   "execution_count": 15,
   "metadata": {},
   "outputs": [
    {
     "name": "stdout",
     "output_type": "stream",
     "text": [
      "[1, 0, 0, 1, 0, 0, 1, 1, 1, 1, 0, 0, 4, 0, 0, 1 | mammal] {aardvark}\n",
      "[1, 0, 0, 1, 0, 0, 0, 1, 1, 1, 0, 0, 4, 1, 0, 1 | mammal] {antelope}\n",
      "[0, 0, 1, 0, 0, 1, 1, 1, 1, 0, 0, 1, 0, 1, 0, 0 | fish] {bass}\n"
     ]
    }
   ],
   "source": [
    "for a in animales[:3]:\n",
    "   ...:     print(a)"
   ]
  },
  {
   "cell_type": "code",
   "execution_count": 16,
   "metadata": {},
   "outputs": [
    {
     "name": "stdout",
     "output_type": "stream",
     "text": [
      "Attributes: hair, feathers, eggs, milk, airborne, aquatic, predator, toothed, backbone, breathes, venomous, fins, legs, tail, domestic, catsize\n",
      "Class: type\n",
      "Data instances 101\n"
     ]
    }
   ],
   "source": [
    "print(\"Atributos:\", \", \".join(x.name for x in animales.domain.attributes))\n",
    "print(\"Clases:\", animales.domain.class_var.name)\n",
    "print(\"Instancias de datos\", len(animales))"
   ]
  },
  {
   "cell_type": "code",
   "execution_count": null,
   "metadata": {},
   "outputs": [],
   "source": []
  }
 ],
 "metadata": {
  "kernelspec": {
   "display_name": "orange3",
   "language": "python",
   "name": "orange3"
  },
  "language_info": {
   "codemirror_mode": {
    "name": "ipython",
    "version": 3
   },
   "file_extension": ".py",
   "mimetype": "text/x-python",
   "name": "python",
   "nbconvert_exporter": "python",
   "pygments_lexer": "ipython3",
   "version": "3.6.5"
  }
 },
 "nbformat": 4,
 "nbformat_minor": 2
}
