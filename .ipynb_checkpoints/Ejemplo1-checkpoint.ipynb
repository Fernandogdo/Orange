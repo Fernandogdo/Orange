{
 "cells": [
  {
   "cell_type": "code",
   "execution_count": 27,
   "metadata": {},
   "outputs": [],
   "source": [
    "import matplotlib.pyplot as plt\n",
    "%matplotlib inline\n",
    "import scipy as sp\n",
    "import Orange\n",
    "import numpy as np"
   ]
  },
  {
   "cell_type": "code",
   "execution_count": 28,
   "metadata": {},
   "outputs": [],
   "source": [
    "from Orange.data import Table\n",
    "from Orange.classification import NaiveBayesLearner, TreeLearner\n",
    "from Orange.evaluation import CrossValidation"
   ]
  },
  {
   "cell_type": "code",
   "execution_count": 31,
   "metadata": {},
   "outputs": [
    {
     "name": "stdout",
     "output_type": "stream",
     "text": [
      "[[63, male, typical ang, 145, 233, 1, left vent hypertrophy, 150, 0, 2.3, downsloping, 0, fixed defect | 0],\n",
      " [67, male, asymptomatic, 160, 286, 0, left vent hypertrophy, 108, 1, 1.5, flat, 3, normal | 1],\n",
      " [67, male, asymptomatic, 120, 229, 0, left vent hypertrophy, 129, 1, 2.6, flat, 2, reversable defect | 1],\n",
      " [37, male, non-anginal, 130, 250, 0, normal, 187, 0, 3.5, downsloping, 0, normal | 0],\n",
      " [41, female, atypical ang, 130, 204, 0, left vent hypertrophy, 172, 0, 1.4, upsloping, 0, normal | 0]]\n"
     ]
    }
   ],
   "source": [
    "heart = Table(\"heart_disease\")\n",
    "print(heart[:5])\n"
   ]
  },
  {
   "cell_type": "code",
   "execution_count": 32,
   "metadata": {},
   "outputs": [],
   "source": [
    "puntuaciones = CrossValidation(heart, [NaiveBayesLearner(), TreeLearner()])\n"
   ]
  },
  {
   "cell_type": "code",
   "execution_count": 33,
   "metadata": {},
   "outputs": [],
   "source": [
    "#tomar la probabilidad de clase 1 (enfermo) de Naive Bayes Learner\n",
    "p1 = puntuaciones.probabilities[0][:, 1]\n"
   ]
  },
  {
   "cell_type": "code",
   "execution_count": 34,
   "metadata": {},
   "outputs": [],
   "source": [
    "# valores actuales\n",
    "y = puntuaciones.actual"
   ]
  },
  {
   "cell_type": "code",
   "execution_count": 35,
   "metadata": {},
   "outputs": [],
   "source": [
    "#costo de falso positivo (paciente clasificado como enfermo cuando está sano)\n",
    "fp_cost = 500\n"
   ]
  },
  {
   "cell_type": "code",
   "execution_count": 36,
   "metadata": {},
   "outputs": [],
   "source": [
    "#costo de falso negativo (paciente clasificado como saludable cuando está enfermo)\n",
    "fn_cost = 800"
   ]
  },
  {
   "cell_type": "code",
   "execution_count": 20,
   "metadata": {},
   "outputs": [],
   "source": [
    "#declaramos que 0 pacientes están enfermos (umbral> 1).\n",
    "fp = 0"
   ]
  },
  {
   "cell_type": "code",
   "execution_count": 37,
   "metadata": {},
   "outputs": [],
   "source": [
    "#comienza con un umbral por encima de 1 (nadie está enfermo)\n",
    "fn = np.sum(y)"
   ]
  },
  {
   "cell_type": "code",
   "execution_count": 24,
   "metadata": {},
   "outputs": [],
   "source": [
    "#Para cada umbral, calcula el costo asociado con cada tipo de error.\n",
    "ps = []\n",
    "costs = []\n",
    "\n",
    "#calcular los costos de clasificar a los pacientes como enfermos\n",
    "for i in np.argsort(p1)[::-1]:\n",
    "    if y[i] == 0:\n",
    "        fp += 1\n",
    "    else:\n",
    "        fn -= 1\n",
    "    ps.append(p1[i])\n",
    "    costs.append(fp * fp_cost + fn * fn_cost)"
   ]
  },
  {
   "cell_type": "code",
   "execution_count": 38,
   "metadata": {},
   "outputs": [
    {
     "name": "stdout",
     "output_type": "stream",
     "text": [
      "0.462233\n"
     ]
    }
   ],
   "source": [
    "costs = np.array(costs)\n",
    "#encontrar la probabilidad de que un paciente se enferme al menor costo\n",
    "print(ps[costs.argmin()])"
   ]
  },
  {
   "cell_type": "code",
   "execution_count": 40,
   "metadata": {},
   "outputs": [
    {
     "data": {
      "text/plain": [
       "Text(0,0.5,'Costo')"
      ]
     },
     "execution_count": 40,
     "metadata": {},
     "output_type": "execute_result"
    },
    {
     "data": {
      "image/png": "[encoded data removed]",
      "text/plain": [
       "<Figure size 432x288 with 1 Axes>"
      ]
     },
     "metadata": {},
     "output_type": "display_data"
    }
   ],
   "source": [
    "#Esto significa que el umbral que minimiza nuestro costo para un clasificador dado es 0.462233. \n",
    "#Se enviaría a todos los pacientes con una probabilidad de enfermar mayor o igual a 0.462233 para más exámenes.\n",
    "fig, ax = plt.subplots()\n",
    "plt.plot(ps, costs)\n",
    "ax.set_xlabel('Pacientes enviados')\n",
    "ax.set_ylabel('Costo')"
   ]
  },
  {
   "cell_type": "code",
   "execution_count": null,
   "metadata": {},
   "outputs": [],
   "source": []
  }
 ],
 "metadata": {
  "kernelspec": {
   "display_name": "orange3",
   "language": "python",
   "name": "orange3"
  },
  "language_info": {
   "codemirror_mode": {
    "name": "ipython",
    "version": 3
   },
   "file_extension": ".py",
   "mimetype": "text/x-python",
   "name": "python",
   "nbconvert_exporter": "python",
   "pygments_lexer": "ipython3",
   "version": "3.6.5"
  }
 },
 "nbformat": 4,
 "nbformat_minor": 2
}
