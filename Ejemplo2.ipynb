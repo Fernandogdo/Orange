{
 "cells": [
  {
   "cell_type": "code",
   "execution_count": 1,
   "metadata": {},
   "outputs": [],
   "source": [
    "import matplotlib.pyplot as plt\n",
    "%matplotlib inline\n",
    "import scipy as sp\n",
    "import Orange\n",
    "import numpy as np\n",
    "import random"
   ]
  },
  {
   "cell_type": "code",
   "execution_count": 8,
   "metadata": {},
   "outputs": [],
   "source": [
    "from Orange.data import Table\n",
    "from Orange.classification import NaiveBayesLearner, TreeLearner\n",
    "from Orange.evaluation import CrossValidation"
   ]
  },
  {
   "cell_type": "code",
   "execution_count": 19,
   "metadata": {},
   "outputs": [
    {
     "name": "stdout",
     "output_type": "stream",
     "text": [
      "[[1, 0, 0, 1, 0, 0, 1, 1, 1, 1, 0, 0, 4, 0, 0, 1 | mammal] {aardvark},\n",
      " [1, 0, 0, 1, 0, 0, 0, 1, 1, 1, 0, 0, 4, 1, 0, 1 | mammal] {antelope},\n",
      " [0, 0, 1, 0, 0, 1, 1, 1, 1, 0, 0, 1, 0, 1, 0, 0 | fish] {bass},\n",
      " [1, 0, 0, 1, 0, 0, 1, 1, 1, 1, 0, 0, 4, 0, 0, 1 | mammal] {bear},\n",
      " [1, 0, 0, 1, 0, 0, 1, 1, 1, 1, 0, 0, 4, 1, 0, 1 | mammal] {boar}]\n"
     ]
    }
   ],
   "source": [
    "animales = Orange.data.Table(\"zoo.tab\")\n",
    "\n",
    "print(animales[:5])\n"
   ]
  },
  {
   "cell_type": "code",
   "execution_count": 20,
   "metadata": {},
   "outputs": [
    {
     "data": {
      "text/plain": [
       "(DiscreteVariable(name='hair', values=['0', '1']),\n",
       " DiscreteVariable(name='feathers', values=['0', '1']),\n",
       " DiscreteVariable(name='eggs', values=['0', '1']),\n",
       " DiscreteVariable(name='milk', values=['0', '1']),\n",
       " DiscreteVariable(name='airborne', values=['0', '1']),\n",
       " DiscreteVariable(name='aquatic', values=['0', '1']),\n",
       " DiscreteVariable(name='predator', values=['0', '1']),\n",
       " DiscreteVariable(name='toothed', values=['0', '1']),\n",
       " DiscreteVariable(name='backbone', values=['0', '1']),\n",
       " DiscreteVariable(name='breathes', values=['0', '1']),\n",
       " DiscreteVariable(name='venomous', values=['0', '1']),\n",
       " DiscreteVariable(name='fins', values=['0', '1']),\n",
       " DiscreteVariable(name='legs', values=['0', '2', '4', '5', '6', '8']),\n",
       " DiscreteVariable(name='tail', values=['0', '1']),\n",
       " DiscreteVariable(name='domestic', values=['0', '1']),\n",
       " DiscreteVariable(name='catsize', values=['0', '1']))"
      ]
     },
     "execution_count": 20,
     "metadata": {},
     "output_type": "execute_result"
    }
   ],
   "source": [
    "animales.domain.attributes"
   ]
  },
  {
   "cell_type": "code",
   "execution_count": 21,
   "metadata": {},
   "outputs": [
    {
     "data": {
      "text/plain": [
       "DiscreteVariable(name='type',\n",
       "                 values=['amphibian',\n",
       "                  'bird',\n",
       "                  'fish',\n",
       "                  'insect',\n",
       "                  'invertebrate',\n",
       "                  'mammal',\n",
       "                  'reptile'])"
      ]
     },
     "execution_count": 21,
     "metadata": {},
     "output_type": "execute_result"
    }
   ],
   "source": [
    "#Clase de animales\n",
    "animales.domain.class_var"
   ]
  },
  {
   "cell_type": "code",
   "execution_count": 22,
   "metadata": {},
   "outputs": [
    {
     "name": "stdout",
     "output_type": "stream",
     "text": [
      "[1, 0, 0, 1, 0, 0, 1, 1, 1, 1, 0, 0, 4, 0, 0, 1 | mammal] {aardvark}\n",
      "[1, 0, 0, 1, 0, 0, 0, 1, 1, 1, 0, 0, 4, 1, 0, 1 | mammal] {antelope}\n",
      "[0, 0, 1, 0, 0, 1, 1, 1, 1, 0, 0, 1, 0, 1, 0, 0 | fish] {bass}\n"
     ]
    }
   ],
   "source": [
    "for a in animales[:3]:\n",
    "   ...:     print(a)"
   ]
  },
  {
   "cell_type": "code",
   "execution_count": 23,
   "metadata": {},
   "outputs": [
    {
     "name": "stdout",
     "output_type": "stream",
     "text": [
      "Atributos: hair, feathers, eggs, milk, airborne, aquatic, predator, toothed, backbone, breathes, venomous, fins, legs, tail, domestic, catsize\n",
      "Clases: type\n",
      "Instancias de datos: 101\n"
     ]
    }
   ],
   "source": [
    "print(\"Atributos:\", \", \".join(x.name for x in animales.domain.attributes))\n",
    "print(\"Clases:\", animales.domain.class_var.name)\n",
    "print(\"Instancias de datos:\", len(animales))"
   ]
  },
  {
   "cell_type": "code",
   "execution_count": 26,
   "metadata": {},
   "outputs": [
    {
     "data": {
      "text/plain": [
       "Value('name', \"aardvark\")"
      ]
     },
     "execution_count": 26,
     "metadata": {},
     "output_type": "execute_result"
    }
   ],
   "source": [
    "animales[0][\"name\"]"
   ]
  },
  {
   "cell_type": "code",
   "execution_count": 27,
   "metadata": {},
   "outputs": [
    {
     "data": {
      "text/plain": [
       "Value('type', mammal)"
      ]
     },
     "execution_count": 27,
     "metadata": {},
     "output_type": "execute_result"
    }
   ],
   "source": [
    "animales[0][\"type\"]"
   ]
  },
  {
   "cell_type": "code",
   "execution_count": 33,
   "metadata": {},
   "outputs": [
    {
     "data": {
      "text/plain": [
       "array([[ 1.,  0.,  0., ...,  0.,  0.,  1.],\n",
       "       [ 1.,  0.,  0., ...,  1.,  0.,  1.],\n",
       "       [ 0.,  0.,  1., ...,  1.,  0.,  0.],\n",
       "       ..., \n",
       "       [ 1.,  0.,  0., ...,  1.,  0.,  1.],\n",
       "       [ 0.,  0.,  1., ...,  0.,  0.,  0.],\n",
       "       [ 0.,  1.,  1., ...,  1.,  0.,  0.]])"
      ]
     },
     "execution_count": 33,
     "metadata": {},
     "output_type": "execute_result"
    }
   ],
   "source": [
    "animales.X"
   ]
  },
  {
   "cell_type": "code",
   "execution_count": 34,
   "metadata": {},
   "outputs": [
    {
     "data": {
      "text/plain": [
       "array([['aardvark'],\n",
       "       ['antelope'],\n",
       "       ['bass'],\n",
       "       ['bear'],\n",
       "       ['boar'],\n",
       "       ['buffalo'],\n",
       "       ['calf'],\n",
       "       ['carp'],\n",
       "       ['catfish'],\n",
       "       ['cavy'],\n",
       "       ['cheetah'],\n",
       "       ['chicken'],\n",
       "       ['chub'],\n",
       "       ['clam'],\n",
       "       ['crab'],\n",
       "       ['crayfish'],\n",
       "       ['crow'],\n",
       "       ['deer'],\n",
       "       ['dogfish'],\n",
       "       ['dolphin'],\n",
       "       ['dove'],\n",
       "       ['duck'],\n",
       "       ['elephant'],\n",
       "       ['flamingo'],\n",
       "       ['flea'],\n",
       "       ['frog'],\n",
       "       ['frog'],\n",
       "       ['fruitbat'],\n",
       "       ['giraffe'],\n",
       "       ['girl'],\n",
       "       ['gnat'],\n",
       "       ['goat'],\n",
       "       ['gorilla'],\n",
       "       ['gull'],\n",
       "       ['haddock'],\n",
       "       ['hamster'],\n",
       "       ['hare'],\n",
       "       ['hawk'],\n",
       "       ['herring'],\n",
       "       ['honeybee'],\n",
       "       ['housefly'],\n",
       "       ['kiwi'],\n",
       "       ['ladybird'],\n",
       "       ['lark'],\n",
       "       ['leopard'],\n",
       "       ['lion'],\n",
       "       ['lobster'],\n",
       "       ['lynx'],\n",
       "       ['mink'],\n",
       "       ['mole'],\n",
       "       ['mongoose'],\n",
       "       ['moth'],\n",
       "       ['newt'],\n",
       "       ['octopus'],\n",
       "       ['opossum'],\n",
       "       ['oryx'],\n",
       "       ['ostrich'],\n",
       "       ['parakeet'],\n",
       "       ['penguin'],\n",
       "       ['pheasant'],\n",
       "       ['pike'],\n",
       "       ['piranha'],\n",
       "       ['pitviper'],\n",
       "       ['platypus'],\n",
       "       ['polecat'],\n",
       "       ['pony'],\n",
       "       ['porpoise'],\n",
       "       ['puma'],\n",
       "       ['pussycat'],\n",
       "       ['raccoon'],\n",
       "       ['reindeer'],\n",
       "       ['rhea'],\n",
       "       ['scorpion'],\n",
       "       ['seahorse'],\n",
       "       ['seal'],\n",
       "       ['sealion'],\n",
       "       ['seasnake'],\n",
       "       ['seawasp'],\n",
       "       ['skimmer'],\n",
       "       ['skua'],\n",
       "       ['slowworm'],\n",
       "       ['slug'],\n",
       "       ['sole'],\n",
       "       ['sparrow'],\n",
       "       ['squirrel'],\n",
       "       ['starfish'],\n",
       "       ['stingray'],\n",
       "       ['swan'],\n",
       "       ['termite'],\n",
       "       ['toad'],\n",
       "       ['tortoise'],\n",
       "       ['tuatara'],\n",
       "       ['tuna'],\n",
       "       ['vampire'],\n",
       "       ['vole'],\n",
       "       ['vulture'],\n",
       "       ['wallaby'],\n",
       "       ['wasp'],\n",
       "       ['wolf'],\n",
       "       ['worm'],\n",
       "       ['wren']], dtype=object)"
      ]
     },
     "execution_count": 34,
     "metadata": {},
     "output_type": "execute_result"
    }
   ],
   "source": [
    "# meta atributos\n",
    "animales.metas"
   ]
  },
  {
   "cell_type": "code",
   "execution_count": null,
   "metadata": {},
   "outputs": [],
   "source": []
  },
  {
   "cell_type": "code",
   "execution_count": null,
   "metadata": {},
   "outputs": [],
   "source": []
  },
  {
   "cell_type": "code",
   "execution_count": null,
   "metadata": {},
   "outputs": [],
   "source": []
  }
 ],
 "metadata": {
  "kernelspec": {
   "display_name": "orange3",
   "language": "python",
   "name": "orange3"
  },
  "language_info": {
   "codemirror_mode": {
    "name": "ipython",
    "version": 3
   },
   "file_extension": ".py",
   "mimetype": "text/x-python",
   "name": "python",
   "nbconvert_exporter": "python",
   "pygments_lexer": "ipython3",
   "version": "3.6.5"
  }
 },
 "nbformat": 4,
 "nbformat_minor": 2
}
